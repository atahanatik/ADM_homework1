{
  "nbformat": 4,
  "nbformat_minor": 0,
  "metadata": {
    "colab": {
      "provenance": [],
      "authorship_tag": "ABX9TyN+ciIGrAMp+trriEI7KstA",
      "include_colab_link": true
    },
    "kernelspec": {
      "name": "python3",
      "display_name": "Python 3"
    },
    "language_info": {
      "name": "python"
    }
  },
  "cells": [
    {
      "cell_type": "markdown",
      "metadata": {
        "id": "view-in-github",
        "colab_type": "text"
      },
      "source": [
        "<a href=\"https://colab.research.google.com/github/atahanatik/ADM_homework1/blob/main/Scheduling_Algorithm.ipynb\" target=\"_parent\"><img src=\"https://colab.research.google.com/assets/colab-badge.svg\" alt=\"Open In Colab\"/></a>"
      ]
    },
    {
      "cell_type": "code",
      "execution_count": null,
      "metadata": {
        "id": "JGT56YczykyA"
      },
      "outputs": [],
      "source": [
        "import pandas as pd\n",
        "import numpy as np\n",
        "import heapq"
      ]
    },
    {
      "cell_type": "code",
      "source": [
        "#Upload the dataset\n",
        "df= pd.read_csv(r\"/content/NBD_homework_data.csv\")\n",
        "df=df[:500]#delete later\n",
        "#Sorting the data by Arrival_Time and creating a new Task ID \n",
        "df=df.sort_values(\"Arrival_Time\")\n",
        "df['TaskNewID'] = df['Job_ID'].astype(str) +\"TATA\"+ df['Task_ID'].astype(str)\n",
        "#X = C/µ\n",
        "df[\"expected_execution_time_milisecond\"]=df[\"CPU\"]*1000/0.1"
      ],
      "metadata": {
        "id": "OxgpeBf1yrG8"
      },
      "execution_count": null,
      "outputs": []
    },
    {
      "cell_type": "code",
      "source": [
        "heap=[]\n",
        "is_it_in_heap= set()\n",
        "status_table=   pd.DataFrame(columns=[\"Time\", \"Task_list\",\"event\"])\n",
        "available_memory=0.01\n",
        "current_time=df.Arrival_Time[0]\n",
        "current_time_df=pd.DataFrame(columns=[\"TaskNewID\",\"expected_execution_time_milisecond\",\"Memory\",])"
      ],
      "metadata": {
        "id": "dmpdKlB3y0Zn"
      },
      "execution_count": null,
      "outputs": []
    },
    {
      "cell_type": "code",
      "source": [
        "  for i,row in df.iterrows():\n",
        "    if row.Arrival_Time <= current_time:\n",
        "      #Creating a new dataframe for every time period    \n",
        "      save_the_values=pd.DataFrame({\"TaskNewID\":[row.TaskNewID],\n",
        "                                    \"expected_execution_time_milisecond\":[row.expected_execution_time_milisecond],\n",
        "                                    \"Memory\":[row.Memory]})\n",
        "      \n",
        "      current_time_df = pd.concat([current_time_df, save_the_values])\n",
        "      #The tasks are put into order for calculation in a heap if there is available memory\n",
        "      for index, row in current_time_df.iterrows():\n",
        "        if available_memory-row.Memory>0 and row['TaskNewID'] not in is_it_in_heap :\n",
        "          task_finish_time = current_time + row[\"expected_execution_time_milisecond\"]\n",
        "          heapq.heappush(heap,(task_finish_time, row['TaskNewID'],row[\"Memory\"]))\n",
        "          #updating memory availability\n",
        "          available_memory=available_memory-row.Memory\n",
        "          #updating the status table \n",
        "          save_to_status_table=pd.DataFrame({\"Time\":[current_time],\n",
        "                                             \"Task_list\":[list(heap)],\n",
        "                                             \"event\":[f\"{row.TaskNewID} is scheduled\"],\n",
        "                                             \"used_memory\":[1-available_memory]})\n",
        "          status_table=pd.concat([status_table, save_to_status_table])\n",
        "          is_it_in_heap.add(row['TaskNewID'])\n",
        "        else:\n",
        "          #wait for the next time \n",
        "          #a task is completed\n",
        "          if i+1 < len(df):\n",
        "            if df.Arrival_Time[i]-df.Arrival_Time[i+1]>df.expected_execution_time_milisecond[i]:\n",
        "              current_time=current_time+df.expected_execution_time_milisecond[i]\n",
        "              #make sure memory of the completed calculation is freed\n",
        "              available_memory=available_memory+heap[0][2]\n",
        "              heapq.heappop(heap)\n",
        "            else:\n",
        "             #check if there is any task completed\n",
        "             if heap and current_time>=heap[0][0]:\n",
        "               _, _, memory_used= heapq.heappop(heap)\n",
        "               available_memory=available_memory+memory_used\n",
        "             current_time=max(current_time, df.Arrival_Time[i+1])\n",
        "          else:\n",
        "            pass\n",
        "    else:\n",
        "      #let the time pass and when the arrival time of i become smaller than current time, include row to the current_df\n",
        "      while i < len(df) and df.Arrival_Time[i] > current_time:\n",
        "          if heap and current_time>=heap[0][0]:\n",
        "            _, _, memory_used= heapq.heappop(heap)\n",
        "            available_memory=available_memory+memory_used\n",
        "          current_time = heap[0][0] if heap else df.Arrival_Time[i]\n",
        "\n",
        "  #will add notifiers to the status table for tasks that are too big for memory"
      ],
      "metadata": {
        "id": "CfUumh-hy6G2"
      },
      "execution_count": null,
      "outputs": []
    },
    {
      "cell_type": "code",
      "source": [
        "status_table"
      ],
      "metadata": {
        "id": "apOKRvbCy-cL"
      },
      "execution_count": null,
      "outputs": []
    }
  ]
}